{
 "cells": [
  {
   "cell_type": "code",
   "execution_count": 1,
   "metadata": {},
   "outputs": [],
   "source": [
    "import numpy as np\n",
    "import pandas as pd\n",
    "import pydicom\n",
    "%matplotlib inline\n",
    "import matplotlib.pyplot as plt\n",
    "import tensorflow.keras \n",
    "from tensorflow.keras import models\n",
    "from skimage.transform import resize\n",
    "import matplotlib.image as image\n",
    "from skimage import color"
   ]
  },
  {
   "cell_type": "code",
   "execution_count": 2,
   "metadata": {},
   "outputs": [],
   "source": [
    "# This function reads in a .dcm file, checks the important fields for our device, and returns a numpy array\n",
    "# of just the imaging data\n",
    "def check_dicom(filename): \n",
    "    dcm = pydicom.dcmread(filename)       \n",
    "   \n",
    "    # Age\n",
    "    age = int(dcm.PatientAge)\n",
    "    if age < 2 or age > 90:\n",
    "        print(f'Image {filename} rejected, Age: {age}')\n",
    "        return None\n",
    "    \n",
    "    # Body Part\n",
    "    body_part = dcm.BodyPartExamined\n",
    "    if body_part not in ['CHEST', 'chest']:\n",
    "        print(f'Image {filename} rejected, Body part: {body_part}')\n",
    "        return None\n",
    "    \n",
    "    # Patient Position\n",
    "    pos = dcm.PatientPosition\n",
    "    if pos not in ['PA', 'AP']:\n",
    "        print(f'Image {filename} rejected, Patient position: {pos}')\n",
    "        return None\n",
    "    \n",
    "    # Modali\n",
    "    mod = dcm.Modality                            \n",
    "    if mod != 'DX':\n",
    "        print(f'Image {filename} rejected, Modality: {mod}')\n",
    "        return None\n",
    "    \n",
    "    return dcm.pixel_array\n",
    "    \n",
    "    \n",
    "# This function takes the numpy array output by check_dicom and \n",
    "# runs the appropriate pre-processing needed for our model input\n",
    "def preprocess_image(img,img_size):\n",
    "    if len(img.shape) == 3:\n",
    "        img = color.rgb2gray(img)\n",
    "    # Normalize image\n",
    "    img  = img / 255\n",
    "    resized_img = resize(img, (img_size[1], img_size[2]))\n",
    "\n",
    "    proc_img = resized_img.reshape((1, img_size[1], img_size[2], 1))\n",
    "    proc_img = np.repeat(proc_img, img_size[3], axis=3)\n",
    "\n",
    "    return proc_img\n",
    "\n",
    "# This function loads in our trained model w/ weights and compiles it \n",
    "def load_model(model_path, weight_path):\n",
    "    with open(model_path, 'r') as json_file:\n",
    "        model_json = json_file.read()\n",
    "        model = models.model_from_json(model_json)\n",
    "        model.load_weights(weight_path)    \n",
    "    return model\n",
    "\n",
    "# This function uses our device's threshold parameters to predict whether or not\n",
    "# the image shows the presence of pneumonia using our trained model\n",
    "def predict_image(model, img, thresh): \n",
    "    pred_im = model.predict(img)   \n",
    "    if pred_im > thresh:\n",
    "        prediction = 'Pneumonia'\n",
    "    else:\n",
    "        prediction =  'Not Pneumonia'    \n",
    "    return prediction "
   ]
  },
  {
   "cell_type": "code",
   "execution_count": 3,
   "metadata": {},
   "outputs": [],
   "source": [
    "test_dicoms = ['./data/test1.dcm','./data/test2.dcm','./data/test3.dcm','./data/test4.dcm','./data/test5.dcm','./data/test6.dcm']\n",
    "\n",
    "model_path = './my_model.json' #path to saved model\n",
    "weight_path = './xray_class_my_model.best.hdf5' #path to saved best weights\n",
    "\n",
    "IMG_SIZE=(1,224,224,3) "
   ]
  },
  {
   "cell_type": "code",
   "execution_count": 4,
   "metadata": {},
   "outputs": [
    {
     "name": "stdout",
     "output_type": "stream",
     "text": [
      "Not Pneumonia\n",
      "Pneumonia\n",
      "Pneumonia\n",
      "Image ./data/test4.dcm rejected, Body part: RIBCAGE\n",
      "Image ./data/test5.dcm rejected, Modality: CT\n",
      "Image ./data/test6.dcm rejected, Patient position: XX\n"
     ]
    }
   ],
   "source": [
    "my_model = load_model(model_path, weight_path) #loads model\n",
    "thresh = 0.36\n",
    "\n",
    "# use the .dcm files to test your prediction\n",
    "for i in test_dicoms:\n",
    "    \n",
    "    img = np.array([])\n",
    "    img = check_dicom(i)\n",
    "    \n",
    "    if img is None:\n",
    "        continue\n",
    "        \n",
    "    img_proc = preprocess_image(img,IMG_SIZE)\n",
    "    pred = predict_image(my_model,img_proc,thresh)\n",
    "    print(pred)"
   ]
  },
  {
   "cell_type": "code",
   "execution_count": null,
   "metadata": {},
   "outputs": [],
   "source": []
  }
 ],
 "metadata": {
  "kernelspec": {
   "display_name": "Python 3",
   "language": "python",
   "name": "python3"
  },
  "language_info": {
   "codemirror_mode": {
    "name": "ipython",
    "version": 3
   },
   "file_extension": ".py",
   "mimetype": "text/x-python",
   "name": "python",
   "nbconvert_exporter": "python",
   "pygments_lexer": "ipython3",
   "version": "3.7.6"
  }
 },
 "nbformat": 4,
 "nbformat_minor": 2
}
